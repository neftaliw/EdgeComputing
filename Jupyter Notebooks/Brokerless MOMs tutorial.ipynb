{
 "cells": [
  {
   "cell_type": "markdown",
   "metadata": {
    "id": "7OIBWtiBfaOz"
   },
   "source": [
    "# Building a brokerless MOM\n",
    "\n",
    "As explained in the last lecture, a MOM is a Message Oriented Middleware. We saw an example of a middleware that used dynamic brokers to decrease latency and prioritize quality of service. Since the network you will build for project 2 is unlikely to span several regions, we are going to use a brokerless MOM.\n",
    "\n",
    "## 0MQ (Zero MQ)\n",
    "\n",
    "ZMQ stands for Zero broker, message queue. Technically is not a MOM since it doen't run as a separate application or on a separat platform, therefore doesn't qualify fully as a middleware. Instead, ZMQ is used through multilanguage libraries and implemented directly into your own code. It's free, high performance, and has a very simple implementation. ZMQ is so good that it is part of Jupyter's own backend. There's a fully detailed guide here: http://zguide.zeromq.org/, however, we are going to learn the basics and how to setup a simple local message queue that you can use for your projects. Also, note that ZMQ has libraries for most common programming languages, if you have experience with C or Java, I recommend you setup your MOM using those with multithreading. In python I will show you how to use multiprocessing to spawn several servers but the uni-thread nature of Python will make your application hang while waiting for a message.\n",
    "\n",
    "\n",
    "If you have Jupyter, it is very likely that you have ZMQ installed, but otherwise you will need to install it by running:\n",
    "\n"
   ]
  },
  {
   "attachments": {},
   "cell_type": "markdown",
   "metadata": {},
   "source": [
    "## How to run this notebook\n",
    "Many parts of this notebook require parallel execution. For example, client-server interactions requires that both the client and server be running simultaneously. Since a Jupyter Notebook can only execute code blocks sequentially, please ensure to follow the instructions below:\n",
    "\n",
    "1. Create two separate copies of this notebook on your Jetson device.\n",
    "2. From one notebook, run the client/subscriber, and from the other notebook, run the server/publisher/collector/queue device/forwarder device/streamer device/task worker, as required, simultaneously.\n",
    "3. Create additional copies of this notebook file if you need more simultaneous code block executions."
   ]
  },
  {
   "cell_type": "raw",
   "metadata": {
    "id": "40J1QiH-faO1"
   },
   "source": [
    "!pip install pyzmq --upgrade (use pip3 if you are on the RPi)"
   ]
  },
  {
   "cell_type": "markdown",
   "metadata": {
    "id": "JXNiC_jOfaO2"
   },
   "source": [
    "## Message patterns\n",
    "\n",
    "ZMQ supports 4 types of message patterns. In lecture we only learned about Pub/Sub, but we'll go through each of the patterns here along with examples.\n",
    "\n",
    "### PAIR\n",
    "\n",
    "Running ZMQ using a PAIR pattern is similar to how conventional sockets work. This means that there's a unique, bidirectional connection between the server and the client. The server will send the message when the client connects to it so you don't have to worry about missing any messages. THe following diagram represents how this works:\n",
    "![PAIR](https://learning-0mq-with-pyzmq.readthedocs.io/en/latest/_images/pair.png)\n",
    "\n",
    "Let's run a little example, we are going to build our client first which we will run on command prompt:"
   ]
  },
  {
   "cell_type": "code",
   "execution_count": null,
   "metadata": {
    "colab": {
     "base_uri": "https://localhost:8080/"
    },
    "executionInfo": {
     "elapsed": 3,
     "status": "ok",
     "timestamp": 1683150146945,
     "user": {
      "displayName": "Neftali Watkinson Medina",
      "userId": "14342876310784969428"
     },
     "user_tz": 420
    },
    "id": "inRIaBXofaO2",
    "outputId": "22d08760-d91b-47d8-8db1-acdab5c443b9"
   },
   "outputs": [],
   "source": [
    "%%file pairclient.py\n",
    "\n",
    "import zmq\n",
    "import random\n",
    "import sys\n",
    "import time\n",
    "\n",
    "port = \"5556\"\n",
    "context = zmq.Context()\n",
    "socket = context.socket(zmq.PAIR)\n",
    "socket.connect(\"tcp://localhost:%s\" % port)\n",
    "\n",
    "while True:\n",
    "    msg = socket.recv()\n",
    "    print (msg)\n",
    "    socket.send_string(\"client message to server1\")\n",
    "    socket.send_string(\"client message to server2\")\n",
    "    time.sleep(1)\n"
   ]
  },
  {
   "cell_type": "code",
   "execution_count": null,
   "metadata": {
    "colab": {
     "base_uri": "https://localhost:8080/"
    },
    "executionInfo": {
     "elapsed": 9640,
     "status": "ok",
     "timestamp": 1683150234914,
     "user": {
      "displayName": "Neftali Watkinson Medina",
      "userId": "14342876310784969428"
     },
     "user_tz": 420
    },
    "id": "YcBScxM_kgKs",
    "outputId": "867b5bc6-f1ec-405a-92b5-25127c7fb540"
   },
   "outputs": [],
   "source": [
    "!python3.7 pairclient.py"
   ]
  },
  {
   "cell_type": "markdown",
   "metadata": {
    "id": "lIveIR68faO3"
   },
   "source": [
    "Now lets build the server, we are going to send a message when we get confirmation that a client is connected."
   ]
  },
  {
   "cell_type": "code",
   "execution_count": null,
   "metadata": {
    "colab": {
     "base_uri": "https://localhost:8080/",
     "height": 415
    },
    "executionInfo": {
     "elapsed": 6372,
     "status": "error",
     "timestamp": 1683150241284,
     "user": {
      "displayName": "Neftali Watkinson Medina",
      "userId": "14342876310784969428"
     },
     "user_tz": 420
    },
    "id": "wlhQmGrvfaO3",
    "outputId": "584e020a-6246-4fb2-9d02-37f76e844c33"
   },
   "outputs": [],
   "source": [
    "import zmq\n",
    "import random\n",
    "import sys\n",
    "import time\n",
    "\n",
    "port = \"5556\"\n",
    "context = zmq.Context()\n",
    "socket = context.socket(zmq.PAIR)\n",
    "socket.bind(\"tcp://*:%s\" % port)\n",
    "\n",
    "while True:\n",
    "    socket.send_string(\"Server message to client3\")\n",
    "    msg = socket.recv()\n",
    "    print (msg)\n",
    "    time.sleep(1)"
   ]
  },
  {
   "cell_type": "markdown",
   "metadata": {
    "id": "6Qo3zi0GfaO3"
   },
   "source": [
    "Since we are killing the server after every run, make sure that you restart your kernel and import the libraries for each example.\n",
    "\n",
    "As you can see, the server will not send a message until a client connects, then there's communication between the two. We are using the TCP protocol and we are using port 5556. You could use other protocols (for example UDP) but this is fine. \n",
    "\n",
    "Remember, we are running everything locally so we are connecting to localhost, but you must replace this with the actual ip of your server, this will be either your ethernet ip (if the RPi is connected to your computer), the ip your router assigns to you (if they're both connected to the same router), your public ip (if you are running on a server with a static public domain), or the virtual ip from your VPN.\n",
    "\n",
    "\n",
    "### Client-Server\n",
    "\n",
    "Also known as the Request/Reply model. In this one, the servers are passive until they receive a request from a client. The server will keep trying to respond to that request until it has confirmation or times out. \n",
    "\n",
    "Unlike PAIR, in Client-Server the client can connect to multiple servers. However, your requests and replies will hang and block communication until they have been fulfilled and confirmed or have timed-out.\n",
    "\n",
    "![REREP](https://learning-0mq-with-pyzmq.readthedocs.io/en/latest/_images/reqrep.png)\n",
    "\n",
    "Lets go ahead and build our client. Is good practice to select your port form a command line argument so you don't have to modify your code every time, we will leave a default port but have the option to change it if necessary. Our client has the option to connect to two servers, but we won't use that for now."
   ]
  },
  {
   "cell_type": "code",
   "execution_count": null,
   "metadata": {
    "id": "v6nkFIvjfaO4"
   },
   "outputs": [],
   "source": [
    "%%file reqrep_client.py\n",
    "\n",
    "import zmq\n",
    "import sys\n",
    "\n",
    "port = \"5556\"\n",
    "if len(sys.argv) > 1:\n",
    "    port =  sys.argv[1]\n",
    "    int(port)\n",
    "\n",
    "if len(sys.argv) > 2:\n",
    "    port1 =  sys.argv[2]\n",
    "    int(port1)\n",
    "\n",
    "context = zmq.Context()\n",
    "print (\"Connecting to server...\")\n",
    "socket = context.socket(zmq.REQ)\n",
    "socket.connect (\"tcp://localhost:%s\" % port)\n",
    "if len(sys.argv) > 2: ##same socket object can be used to connect to both servers\n",
    "    socket.connect (\"tcp://localhost:%s\" % port1)\n",
    "\n",
    "    #  Do 10 requests, waiting each time for a response\n",
    "for request in range (1,10):\n",
    "    print( \"Sending request \", request,\"...\")\n",
    "    socket.send_string (\"Hello\")\n",
    "    #  Get the reply.\n",
    "    message = socket.recv()\n",
    "    print (\"Received reply \", request, \"[\", message, \"]\")\n"
   ]
  },
  {
   "cell_type": "markdown",
   "metadata": {
    "id": "f1Bo80P0faO4"
   },
   "source": [
    "And now our server looks something like this:"
   ]
  },
  {
   "cell_type": "code",
   "execution_count": null,
   "metadata": {
    "id": "ylnKhSWrfaO4"
   },
   "outputs": [],
   "source": [
    "import zmq\n",
    "import time\n",
    "import sys\n",
    "\n",
    "port = \"5556\"\n",
    "context = zmq.Context()\n",
    "socket = context.socket(zmq.REP)\n",
    "socket.bind(\"tcp://*:%s\" % port)\n",
    "\n",
    "while True:\n",
    "    #  Wait for next request from client\n",
    "    message = socket.recv()\n",
    "    print (\"Received request: \", message)\n",
    "    time.sleep (1)  \n",
    "    socket.send_string(\"World from %s\" % port)"
   ]
  },
  {
   "cell_type": "markdown",
   "metadata": {
    "id": "nmLN6caHfaO5"
   },
   "source": [
    "Try killing the server or the client before finishing and see what happens. When your client or server are not reliable your application will hang until you restart everything.\n",
    "\n",
    "### Publish/Subscribe\n",
    "\n",
    "The PAIR model is fine when you need a simple straightforward way to communicate between one client and one server. Req/Rep allows you to connect to several servers but communication is contingent to both confirming the receipt of their messages. They are ideal for static devices (such as computers within an organization), but for Edge Networks we need something more relaxed that allows us to connect and disconnect devices on the fly with minimal configuration. This is where Pub/Sub comes in.\n",
    "\n",
    "Just as it names suggest, this model changes the role of the server to that of a publisher. The client is now a subscriber. The publisher will boradcast messages on different \"topics\" and the subscriber will listen to the messages form the topic it's subscribed to. The server doesn't care if their messages are received so doesn't need to verify that there's a subscriber present. You can have one subscriber listening to multiple mpublishers or multiple subscribers listening to the same publisher like so:\n",
    "\n",
    "![PUBSUB](https://learning-0mq-with-pyzmq.readthedocs.io/en/latest/_images/pubsub.png)\n",
    "\n",
    "Lets build our sub slient, it will listen to the topic \"1001\" from our server:"
   ]
  },
  {
   "cell_type": "code",
   "execution_count": null,
   "metadata": {
    "id": "25Ofy8fwfaO5"
   },
   "outputs": [],
   "source": [
    "%%file sub_client.py\n",
    "\n",
    "import sys\n",
    "import zmq\n",
    "\n",
    "port = \"5556\"\n",
    "\n",
    "# Socket to talk to server\n",
    "context = zmq.Context()\n",
    "socket = context.socket(zmq.SUB)\n",
    "\n",
    "print (\"Collecting updates from weather server...\")\n",
    "socket.connect (\"tcp://localhost:%s\" % port)\n",
    "\n",
    "# Subscribe to zipcode, default is NYC, 10001\n",
    "topicfilter = \"10001\"\n",
    "socket.setsockopt_string(zmq.SUBSCRIBE, topicfilter)\n",
    "\n",
    "# Process 5 updates\n",
    "total_value = 0\n",
    "for update_nbr in range (5):\n",
    "    string = socket.recv()\n",
    "    topic, messagedata = string.split()\n",
    "    total_value += int(messagedata)\n",
    "    print (topic, messagedata)\n",
    "\n",
    "print (\"Average messagedata value for topic '%s' was %dF\" % (topicfilter, total_value / update_nbr))\n"
   ]
  },
  {
   "cell_type": "markdown",
   "metadata": {
    "id": "0ukgfJ0CfaO5"
   },
   "source": [
    "Our server will publish message with a random topic, one of those will be the topic our client subcsribes to."
   ]
  },
  {
   "cell_type": "code",
   "execution_count": null,
   "metadata": {
    "id": "5EGALHNAfaO5"
   },
   "outputs": [],
   "source": [
    "import zmq\n",
    "import random\n",
    "import sys\n",
    "import time\n",
    "\n",
    "port = \"5556\"\n",
    "\n",
    "\n",
    "context = zmq.Context()\n",
    "socket = context.socket(zmq.PUB)\n",
    "socket.bind(\"tcp://*:%s\" % port)\n",
    "while True:\n",
    "    topic = random.randrange(9999,10005)\n",
    "    messagedata = random.randrange(1,215) - 80\n",
    "    print (\"%d %d\" % (topic, messagedata))\n",
    "    socket.send_string(\"%d %d\" % (topic, messagedata))\n",
    "    time.sleep(1)"
   ]
  },
  {
   "cell_type": "markdown",
   "metadata": {
    "id": "pSIMD9T_faO5"
   },
   "source": [
    "Notice that you can kill either process and the other will continue working. The major downside is that if there were messages posted on your topic before you subscribed to it you will lose them. And if topics are published faster than what you can process you will lose those messages, unless you are using TCP which will add the missed messages to a queue.\n",
    "\n",
    "### Push/Pull\n",
    "\n",
    "A more expensive model than pub/sub, but solves the main drawback of missed messages, is the Push/Pull model. In this model, there are three roles, the producer, the consumers and the result collector. The producer pushes at message downstream through the pipeline which is equally distributed among the consumers, then the consumers send the result of their computation to a result collector. This is a very efficient model for distributed computing since you ensure that all data is processed even if you have multiple consumers. The pipeline looks like this:\n",
    "\n",
    "![PUSH](https://learning-0mq-with-pyzmq.readthedocs.io/en/latest/_images/pushpull.png)\n",
    "\n",
    "Now let's build our own system. This notebook will be the producer, but we have to create and start the consumer and the collector first, so lets start with the consumer:"
   ]
  },
  {
   "cell_type": "code",
   "execution_count": null,
   "metadata": {
    "id": "tid4S18xfaO6"
   },
   "outputs": [],
   "source": [
    "%%file consumer.py\n",
    "\n",
    "import time\n",
    "import zmq\n",
    "import random\n",
    "\n",
    "def consumer():\n",
    "    consumer_id = random.randrange(1,10005)\n",
    "    print (\"I am consumer #%s\" % (consumer_id))\n",
    "    context = zmq.Context()\n",
    "    # recieve work\n",
    "    consumer_receiver = context.socket(zmq.PULL)\n",
    "    consumer_receiver.connect(\"tcp://127.0.0.1:5557\")\n",
    "    # send work\n",
    "    consumer_sender = context.socket(zmq.PUSH)\n",
    "    consumer_sender.connect(\"tcp://127.0.0.1:5558\")\n",
    "    \n",
    "    while True:\n",
    "        work = consumer_receiver.recv_json()\n",
    "        data = work['num']\n",
    "        result = { 'consumer' : consumer_id, 'num' : data}\n",
    "        if data%2 == 0: \n",
    "            consumer_sender.send_json(result)\n",
    "\n",
    "consumer()"
   ]
  },
  {
   "cell_type": "markdown",
   "metadata": {
    "id": "7I2tyD46faO6"
   },
   "source": [
    "Note that the consumer pulls from one port (the producer) and pushes to another (the collector).\n",
    "\n",
    "The next module is our collector:"
   ]
  },
  {
   "cell_type": "code",
   "execution_count": null,
   "metadata": {
    "id": "2cvhE0s5faO6"
   },
   "outputs": [],
   "source": [
    "%%file resultcollector.py\n",
    "\n",
    "import time\n",
    "import zmq\n",
    "import pprint\n",
    "\n",
    "def result_collector():\n",
    "    context = zmq.Context()\n",
    "    results_receiver = context.socket(zmq.PULL)\n",
    "    results_receiver.bind(\"tcp://127.0.0.1:5558\")\n",
    "    collecter_data = {}\n",
    "    for x in range(1000):\n",
    "        result = results_receiver.recv_json()\n",
    "        if result['consumer'] in collecter_data :\n",
    "            collecter_data[result['consumer']] = collecter_data[result['consumer']] + 1\n",
    "        else:\n",
    "            collecter_data[result['consumer']] = 1\n",
    "        if x == 999:\n",
    "            pprint.pprint(collecter_data)\n",
    "\n",
    "result_collector()"
   ]
  },
  {
   "cell_type": "markdown",
   "metadata": {
    "id": "WjL_LaQxfaO6"
   },
   "source": [
    "No run each one on separate shells, then we can start our producer:"
   ]
  },
  {
   "cell_type": "code",
   "execution_count": null,
   "metadata": {
    "id": "yYSY9c_vfaO6"
   },
   "outputs": [],
   "source": [
    "import time\n",
    "import zmq\n",
    "\n",
    "def producer():\n",
    "    context = zmq.Context()\n",
    " \n",
    "    zmq_socket = context.socket(zmq.PUSH)\n",
    "    zmq_socket.bind(\"tcp://127.0.0.1:5557\")\n",
    "    # Start your result manager and workers before you start your producers\n",
    "    for num in range(20000):\n",
    "        work_message = { 'num' : num }\n",
    "        zmq_socket.send_json(work_message)\n",
    "\n",
    "producer()\n"
   ]
  },
  {
   "cell_type": "markdown",
   "metadata": {
    "id": "eZzlR25HfaO6"
   },
   "source": [
    "Now that you know all four models, can you think of use cases for each one of them?\n",
    "\n",
    "All the examples here are extracted from https://learning-0mq-with-pyzmq.readthedocs.io/, just note that the guide uses python 2. There are other uses and tools such as socket polling for when you have to monitor several sockets, or multiprocessing so you can generate multiple servers in the same kernel.\n",
    "\n",
    "These are advanced techniques that are useful to learn, but for the scale of your project 2 we are going to focus on one last tool from ZMQ that will likely help you a lot. These are:\n",
    "\n",
    "##ZMQ Devices\n",
    "\n",
    "A ZMQ device works as a middle man between your server/publisher/producer and your client/subscriber/consumer. These are useful for several reasons, for example, maybe your server and your client are dynamic (ip is assigned on startup for example), and you can't rely on binding a port from either of them. You can use a third device with static ports that will serve as your server, from the point of vie of the client, and as a client, from the server's point of view.\n",
    "\n",
    "Another use case for this is for asynchronous processing, your server can send a message to the device and continue working trusting that the device will deliver it to the client. In this case it works similar to a broker in a MOM, and you can use different messaging models from each end of the device.\n",
    "\n",
    "There are three device configurations, let's look at each one:\n",
    "\n",
    "### Queue\n",
    "\n",
    "Queue devices are used for the request/reply model and it's in charge of forwarding client requests to the servers and replying with the message the server sends back.. The client and the server will look the same as the device-less model, but now they will connect to the device instead of each other. \n",
    "![queue](https://learning-0mq-with-pyzmq.readthedocs.io/en/latest/_images/Queue.png)\n",
    "\n",
    "Each script will be handled by a different kernel. Let us begin with the device:"
   ]
  },
  {
   "cell_type": "code",
   "execution_count": null,
   "metadata": {
    "id": "RfW5galOfaO7"
   },
   "outputs": [],
   "source": [
    "%%file queue_device.py\n",
    "import zmq\n",
    "\n",
    "def main():\n",
    "\n",
    "    try:\n",
    "        context = zmq.Context(1)\n",
    "        # Socket facing clients\n",
    "        frontend = context.socket(zmq.XREP)\n",
    "        frontend.bind(\"tcp://*:5559\")\n",
    "        # Socket facing services\n",
    "        backend = context.socket(zmq.XREQ)\n",
    "        backend.bind(\"tcp://*:5560\")\n",
    "\n",
    "        zmq.device(zmq.QUEUE, frontend, backend)\n",
    "    except  e:\n",
    "        print (e)\n",
    "        print (\"bringing down zmq device\")\n",
    "    finally:\n",
    "        pass\n",
    "        frontend.close()\n",
    "        backend.close()\n",
    "        context.term()\n",
    "\n",
    "if __name__ == \"__main__\":\n",
    "    main()"
   ]
  },
  {
   "cell_type": "markdown",
   "metadata": {
    "id": "nPAetKEqfaO7"
   },
   "source": [
    "Notice that there is no sending nor requesting done by the device, instead it serves as a bridge between the client and the server. It is also important to remind you that the device, the client and the sevrer could be written in different languages as long as they adhere to ZMQ's API.\n",
    "\n",
    "Let's build our client which is very similar to the one we had before:\n"
   ]
  },
  {
   "cell_type": "code",
   "execution_count": null,
   "metadata": {
    "id": "d0Tl8UHVfaO7"
   },
   "outputs": [],
   "source": [
    "%%file queue_client.py\n",
    "\n",
    "import zmq\n",
    "import sys\n",
    "import random\n",
    "\n",
    "port = \"5559\"\n",
    "context = zmq.Context()\n",
    "print (\"Connecting to server...\")\n",
    "socket = context.socket(zmq.REQ)\n",
    "socket.connect (\"tcp://localhost:%s\" % port)\n",
    "client_id = random.randrange(1,10005)\n",
    "#  Do 10 requests, waiting each time for a response\n",
    "for request in range (1,10):\n",
    "    print (\"Sending request \", request,\"...\"  )  \n",
    "    socket.send_string(\"Hello from %s\" % client_id)\n",
    "    #  Get the reply.\n",
    "    message = socket.recv()\n",
    "    print (\"Received reply \", request, \"[\", message, \"]\")"
   ]
  },
  {
   "cell_type": "markdown",
   "metadata": {
    "id": "aX6whxGFfaO7"
   },
   "source": [
    "Finally our server, nothing really new going on here:"
   ]
  },
  {
   "cell_type": "code",
   "execution_count": null,
   "metadata": {
    "id": "-5P3wq2AfaO7"
   },
   "outputs": [],
   "source": [
    "import zmq\n",
    "import time\n",
    "import sys\n",
    "import random\n",
    "\n",
    "port = \"5560\"\n",
    "context = zmq.Context()\n",
    "socket = context.socket(zmq.REP)\n",
    "socket.connect(\"tcp://localhost:%s\" % port)\n",
    "server_id = random.randrange(1,10005)\n",
    "while True:\n",
    "    #  Wait for next request from client\n",
    "    message = socket.recv()\n",
    "    print( \"Received request: \", message)\n",
    "    time.sleep (1)  \n",
    "    socket.send_string(\"World from server %s\" % server_id)"
   ]
  },
  {
   "cell_type": "markdown",
   "metadata": {
    "id": "1aaxGkzMfaO7"
   },
   "source": [
    "As you can see the device is completely transparent and does nothing to the message being sent. \n",
    "\n",
    "### Forwarder\n",
    "\n",
    "A forwarder device is similar to the queue but abides to the pub/sub model. Do note that topic filtering should still be done at the sub level, the forwarder should relay messages as they come form the server. \n",
    "\n",
    "![forwarder](https://learning-0mq-with-pyzmq.readthedocs.io/en/latest/_images/forwarder.png)\n",
    "\n",
    "Let us build the device:"
   ]
  },
  {
   "cell_type": "code",
   "execution_count": null,
   "metadata": {
    "id": "ba0fzzDTfaO7"
   },
   "outputs": [],
   "source": [
    "%%file forwarder_device.py\n",
    "\n",
    "import zmq\n",
    "\n",
    "def main():\n",
    "\n",
    "    try:\n",
    "        context = zmq.Context(1)\n",
    "        # Socket facing clients\n",
    "        frontend = context.socket(zmq.SUB)\n",
    "        frontend.bind(\"tcp://*:5559\")\n",
    "        \n",
    "        frontend.setsockopt_string(zmq.SUBSCRIBE, \"\")\n",
    "        \n",
    "        # Socket facing services\n",
    "        backend = context.socket(zmq.PUB)\n",
    "        backend.bind(\"tcp://*:5560\")\n",
    "\n",
    "        zmq.device(zmq.FORWARDER, frontend, backend)\n",
    "    except e:\n",
    "        print (e)\n",
    "        print (\"bringing down zmq device\")\n",
    "    finally:\n",
    "        pass\n",
    "        frontend.close()\n",
    "        backend.close()\n",
    "        context.term()\n",
    "\n",
    "if __name__ == \"__main__\":\n",
    "    main()"
   ]
  },
  {
   "cell_type": "markdown",
   "metadata": {
    "id": "PxzafShPfaO7"
   },
   "source": [
    "As you can see, the devices have a very similar structure, the only difference is which ZMQ object you use for the bridges. Our client is a generic sub client:"
   ]
  },
  {
   "cell_type": "code",
   "execution_count": null,
   "metadata": {
    "id": "Yo2OQzE-faO8"
   },
   "outputs": [],
   "source": [
    "%%file forwarder_subscriber.py\n",
    "\n",
    "import sys\n",
    "import zmq\n",
    "\n",
    "port = \"5560\"\n",
    "# Socket to talk to server\n",
    "context = zmq.Context()\n",
    "socket = context.socket(zmq.SUB)\n",
    "print (\"Collecting updates from server...\")\n",
    "socket.connect (\"tcp://localhost:%s\" % port)\n",
    "topicfilter = \"9\"\n",
    "socket.setsockopt_string(zmq.SUBSCRIBE, topicfilter)\n",
    "for update_nbr in range(10):\n",
    "    string = socket.recv()\n",
    "    topic, messagedata = string.split()\n",
    "    print (topic, messagedata)  "
   ]
  },
  {
   "cell_type": "markdown",
   "metadata": {
    "id": "hBuc3QjZfaO8"
   },
   "source": [
    "Finally the server:"
   ]
  },
  {
   "cell_type": "code",
   "execution_count": null,
   "metadata": {
    "id": "zye0rLl3faO8"
   },
   "outputs": [],
   "source": [
    "import zmq\n",
    "import random\n",
    "import sys\n",
    "import time\n",
    "\n",
    "port = \"5559\"\n",
    "context = zmq.Context()\n",
    "socket = context.socket(zmq.PUB)\n",
    "socket.connect(\"tcp://localhost:%s\" % port)\n",
    "publisher_id = random.randrange(0,9999)\n",
    "while True:\n",
    "    topic = random.randrange(1,10)\n",
    "    messagedata = \"server#%s\" % publisher_id\n",
    "    print (\"%s %s\" % (topic, messagedata))\n",
    "    socket.send_string(\"%d %s\" % (topic, messagedata))\n",
    "    time.sleep(1)"
   ]
  },
  {
   "cell_type": "markdown",
   "metadata": {
    "id": "jqpw5TI0faO8"
   },
   "source": [
    "### Streamer\n",
    "\n",
    "Our last device was designed for the push/pull model. The streamer can handle the push from several servers and push to multiple workers.\n",
    "\n",
    "![streamer](https://learning-0mq-with-pyzmq.readthedocs.io/en/latest/_images/streamer.png)\n",
    "\n",
    "We will skip the result collector for now but we are going to start with the streamer:"
   ]
  },
  {
   "cell_type": "code",
   "execution_count": null,
   "metadata": {
    "id": "JSaR3GUvfaO8"
   },
   "outputs": [],
   "source": [
    "%%file streamer_device.py\n",
    "\n",
    "import zmq\n",
    "\n",
    "def main():\n",
    "\n",
    "    try:\n",
    "        context = zmq.Context(1)\n",
    "        # Socket facing clients\n",
    "        frontend = context.socket(zmq.PULL)\n",
    "        frontend.bind(\"tcp://*:5559\")\n",
    "        \n",
    "        # Socket facing services\n",
    "        backend = context.socket(zmq.PUSH)\n",
    "        backend.bind(\"tcp://*:5557\")\n",
    "\n",
    "        zmq.device(zmq.STREAMER, frontend, backend)\n",
    "    except  e:\n",
    "        print (e)\n",
    "        print (\"bringing down zmq device\")\n",
    "    finally:\n",
    "        pass\n",
    "        frontend.close()\n",
    "        backend.close()\n",
    "        context.term()\n",
    "\n",
    "if __name__ == \"__main__\":\n",
    "    main()"
   ]
  },
  {
   "cell_type": "code",
   "execution_count": null,
   "metadata": {
    "id": "S0v8MTBtfaO8"
   },
   "outputs": [],
   "source": [
    "%%file task_worker.py\n",
    "\n",
    "import sys\n",
    "import time\n",
    "import zmq\n",
    "import random\n",
    "\n",
    "def consumer():\n",
    "    consumer_id = random.randrange(1,10005)\n",
    "    print (\"I am consumer #%s\" % (consumer_id))\n",
    "    context = zmq.Context()\n",
    "    # recieve work\n",
    "    consumer_receiver = context.socket(zmq.PULL)\n",
    "    consumer_receiver.connect(\"tcp://127.0.0.1:5557\")\n",
    "    while True:\n",
    "        work = consumer_receiver.recv_json()\n",
    "        data = work['num']\n",
    "        result = { 'consumer' : consumer_id, 'num' : data}\n",
    "        print (result)\n",
    "consumer()"
   ]
  },
  {
   "cell_type": "code",
   "execution_count": null,
   "metadata": {
    "id": "kMYBUgjMfaO8"
   },
   "outputs": [],
   "source": [
    "import time\n",
    "import zmq\n",
    "\n",
    "def producer():\n",
    "    context = zmq.Context()\n",
    "    zmq_socket = context.socket(zmq.PUSH)\n",
    "    zmq_socket.connect(\"tcp://127.0.0.1:5559\")\n",
    "    # Start your result manager and workers before you start your producers\n",
    "    for num in range(20000):\n",
    "        work_message = { 'num' : num }\n",
    "        zmq_socket.send_json(work_message)\n",
    "        time.sleep(1)\n",
    "\n",
    "producer()"
   ]
  },
  {
   "cell_type": "markdown",
   "metadata": {
    "id": "QHyn3BFmfaO9"
   },
   "source": [
    "Final note, you may have noticed that we used bind and connect interchangeably. The first one means that you are dedicating that port so others connect to you, and connect needs one side bound in order to work. It doesn't matter which side does it but ideally it will be the more stable and static one."
   ]
  },
  {
   "cell_type": "code",
   "execution_count": null,
   "metadata": {
    "id": "vpn4XnrufaO9"
   },
   "outputs": [],
   "source": []
  }
 ],
 "metadata": {
  "colab": {
   "provenance": []
  },
  "kernelspec": {
   "display_name": "Python 3 (ipykernel)",
   "language": "python",
   "name": "python3"
  },
  "language_info": {
   "codemirror_mode": {
    "name": "ipython",
    "version": 3
   },
   "file_extension": ".py",
   "mimetype": "text/x-python",
   "name": "python",
   "nbconvert_exporter": "python",
   "pygments_lexer": "ipython3",
   "version": "3.7.5"
  }
 },
 "nbformat": 4,
 "nbformat_minor": 1
}
